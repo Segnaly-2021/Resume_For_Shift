{
 "cells": [
  {
   "cell_type": "markdown",
   "id": "d321f2be-dc70-4e13-b4ea-309664850a64",
   "metadata": {},
   "source": [
    "<h1 style=\"color:rgba(81, 52, 201, 1)\">Looking for a full-time role as Data Scientist at Shift Technology</h1>  "
   ]
  },
  {
   "cell_type": "markdown",
   "id": "040636d8-baee-43be-8aa5-968ddd3062e0",
   "metadata": {
    "jp-MarkdownHeadingCollapsed": true
   },
   "source": [
    "<div style=\"background-color: rgba(81, 52, 201, 1); padding: 35px; margin:0px; border-radius: 20px; color: white;\">\n",
    "<div style=\"display: flex; width: 100%;\">\n",
    "<div style=\"width:35%;\">\n",
    "<img src=\"./Image_Profil.png\" alt=\"ImageNotFound\" style=\"background-color: white; width:100%; height:auto; border-radius: 10px; border: 2px solid rgba(81, 52, 201, 1); margin-bottom: 10px\"/>\n",
    "</div>  \n",
    "<div style=\"margin-left:7%; width: 60%\"> \n",
    "<div style=\"margin-bottom: 50px;\">\n",
    "<div style=\"display: inline-block; background-color: #FF7353; margin-bottom: 10px; padding: 15px; text-align: center; border-radius: 6px\">              \n",
    "<h4 style=\"margin: 0px; padding:0px;\">Who I am?</h4>\n",
    "</div> \n",
    "<ul style=\" margin: 0px;font-size: 16px; width: 85%; padding: 30px; border: 2px solid white; border-radius: 20px\">\n",
    "<li>I'm Aly Segnane, a junior data scientist, currently living in Paris.</li>\n",
    "<li style=\"margin-top: 15px\">I fell in love with computer science, especially AI and ML, almost two years ago after graduating from Mines Nancy. As a detail-oriented person, I enjoy the scrutiny that coding requires, the building process itself, and the decision-making involved. I'm grateful for how far I've come and eager to learn even more, especially the business part.</li>     \n",
    "<li style=\"margin-top: 15px\">Along this journey, I've worked on several projects related to machine learning and AI, which are available on <a href=\"https://www.alysegnane-portfolio.com\" target='_blank' style='color:#FF7353'>my portfolio website.</a> </li>\n",
    "<li style=\"margin-top: 15px\">I'm looking for a full-time data scientist role starting from september 2025 at Shift Technology.</li>\n",
    "</ul> \n",
    "</div>\n",
    "<div>\n",
    "<div style=\"display: inline-block; background-color: #FF7353; margin-bottom: 10px; padding: 10px; text-align: center; border-radius: 5px\">              \n",
    "<h4 style=\"margin: 0px; padding:0px\">Tools I bring?</h4>\n",
    "</div>  \n",
    "<ul style = \"margin: 0px; font-size: 16px; width: 85%; padding: 30px; border: 2px solid white; border-radius: 20px\">\n",
    "<li>\n",
    "Fluent in <strong>Python, C#</strong>  \n",
    "</li>\n",
    "<li style=\"margin-top: 15px\">\n",
    "ML Frameworks: <strong>scikit-learn, Tensorflow, PyTorch, Numpy, Matplotlib, Pandas</strong>  \n",
    "</li>\n",
    "<li style=\"margin-top: 15px\">\n",
    "Database: <strong>SQL Server, SQL</strong>   \n",
    "</li>\n",
    "<li style=\"margin-top: 15px\">\n",
    "Containerization: <strong>Docker, Kubernetes</strong>  \n",
    "</li>\n",
    "<li style=\"margin-top: 15px\">\n",
    "Certified as <strong>GCP professional machine learning engineer.</strong>   \n",
    "</li>\n",
    "</ul>  \n",
    "</div>\n",
    "</div>\n",
    "</div>\n",
    "</div>"
   ]
  },
  {
   "cell_type": "markdown",
   "id": "8ebd9f63-82fb-44de-ad08-f61f79940234",
   "metadata": {},
   "source": [
    "<h1 style=\"color:rgba(81, 52, 201, 1)\">The story of a young ML engineer</h1>"
   ]
  },
  {
   "cell_type": "markdown",
   "id": "6e38421d-6c9d-4536-b8e0-9962b027183e",
   "metadata": {},
   "source": [
    "<p style=\"font-size: 16px;\">This will not sound like the traditional cover letter - it's a story. The story of a young engineer, graduated from Mines Nancy, who fell in love with a field, machine learning and AI, and a company, <strong>Shift Technology.</strong></p>"
   ]
  },
  {
   "cell_type": "markdown",
   "id": "9b1c48a0-bbd9-478b-a81d-9e1d7e18a54d",
   "metadata": {
    "jp-MarkdownHeadingCollapsed": true
   },
   "source": [
    "<p style=\"font-size: 16px; \">\n",
    "Everything started in December 2023, three months after graduating from Mines Nancy. I knew that I wanted to change careers and make the move to machine learning (ML), but the real question was: \"HOW?\" Am I going to go to school again, or do it alone? I chose the second path for two main reasons:\n",
    "    <ol style=\"margin-left: 5%;\">\n",
    "    <li style=\"font-size: 16px; \">My AI introductory class from Mines Nancy gave me the basics.</li> \n",
    "    <li style=\"font-size: 16px; \">I don't believe that I need a degree to learn ML.</li>\n",
    "    </ol>\n",
    "</p>   \n",
    "<p style=\"font-size: 16px; \">   \n",
    "I bet on my ability to stay committed to the decisions I make - especially when there's no clear evidence challenging their relevance - my consistency and most importantly my passion for machine learning and AI. What I wanted was to dig deeper to the point where I could train, deploy and monitor ML models. Honestly, I don't think many schools provide such a complete program.\n",
    "</p> \n",
    "\n",
    "\n",
    "### So, what was my strategy?\n",
    "\n",
    "<p style=\"font-size: 16px; \">\n",
    "Beyond the passion, discipline, and consistency, a self-learner needs structure and clarity on what to learn and focus on. This is where Shift Technology comes in. My goal throughout this journey has been to land a role at Shift Technology, so I used your tech stack as guidance. I've studied everything from ML-related tools (Python, SQL) to software development tools like C#, ASP.NET, and React.\n",
    "</p>\n",
    "\n",
    "<p style=\"font-size: 16px; \">\n",
    "Throughout this journey, my learning strategy has been quite consistent. I usually start with an online course to get a broad overview of what's possible, then deepen my understanding with books. I've read extensively, and I've listed my favorites below, covering topics like Operating Systems, Computer Networks, C#, ML, and more (hope I'll get the chance to talk about them). They laid the foundations and helped me build a good understanding of how computer systems work.\n",
    "</p>\n",
    "\n",
    "\n",
    "</div>"
   ]
  },
  {
   "cell_type": "markdown",
   "id": "11dc24fc-0e56-4953-869f-597c365de0dc",
   "metadata": {},
   "source": [
    "<div style=\"display:flex;\">\n",
    "    <img src=\"./OS.png\" alt=\"OS\" style=\"width:350px; height:350px; padding: 40px; margin-left: 10%; border-radius: 20px; background-color:rgba(81, 52, 201, 0.1);\"/>\n",
    "    <img src=\"./Network.png\" alt=\"Network\" style=\"width:350px; height:350px; padding: 40px; margin-left: 10%; border-radius: 20px; background-color:rgba(81, 52, 201, .1);\"/>\n",
    "    <img src=\"./C#.png\" alt=\"C#\" style=\"width:350px; height:350px; padding: 40px; margin-left: 10%; border-radius: 20px; background-color:rgba(81, 52, 201, .1);\"/>\n",
    "    <img src=\"./Maths.jpg\" alt=\"Maths\" style=\"width:350px; height:350px; padding: 40px; margin-left: 10%; border-radius: 20px; background-color:rgba(81, 52, 201, .1);\"/>\n",
    "    <img src=\"./Designing_MLS.jpg\" alt=\"Design ML System\" style=\"width:350px; height:350px; padding: 40px; margin-left: 10%; border-radius: 20px; background-color:rgba(81, 52, 201, .1);\"/>\n",
    "    <img src=\"./HundredPage.jpg\" alt=\"HundredPage\" style=\"width:350px; height:350px; padding: 40px; margin-left: 10%; border-radius: 20px; background-color:rgba(81, 52, 201, .1);\"/> \n",
    "</div>"
   ]
  },
  {
   "cell_type": "markdown",
   "id": "9a3ab07f-4661-4920-af9b-30e30abd249a",
   "metadata": {},
   "source": [
    "<h1 style=\"color:rgba(81, 52, 201, 1)\">My Projects</h1>"
   ]
  },
  {
   "cell_type": "markdown",
   "id": "be94fd1f-fbcb-468d-b8fa-8c77ebbed807",
   "metadata": {},
   "source": [
    "#### I did not just learn tools, I built  projects that can have real-world applications:"
   ]
  },
  {
   "cell_type": "markdown",
   "id": "c8e87182-47c1-4cbb-8045-934cc8f37ca1",
   "metadata": {},
   "source": [
    "<div style=\"display: flex; overflow: scroll; background-color: #f6f7fb; padding: 50px;\">\n",
    "<div style=\"padding: 15px; background-color: white; border-radius:20px; border: 1px solid #f6f7fb;\">\n",
    "<h2 style=\"color:rgba(81, 52, 201, 1); \">Developed a Credit Card Fraud Detection Model:</h2>\n",
    "<ul style=\"font-size: 16px; width: 600px; padding-right: 50px;\">\n",
    "<li style=\"margin-bottom: 2%;\">\n",
    "In this project, I explored four ML algorithms - Logistic Regression, Random Forest, XGBoost and SVM - to build a supervised classification model on a highly imbalanced dataset (fraudulent transactions in the dataset represent less than 1%).  \n",
    "</li>\n",
    "<li style=\"margin-bottom: 2%;\">\n",
    "For each model, I trained it in three different scenarios to overcome the class imbalance problem:\n",
    "<ol>\n",
    "<li>\n",
    "Training on the entire dataset \n",
    "</li>\n",
    "<li>\n",
    "Training on a rebalanced dataset by downsampling the majority class (Non-fraudulent class) \n",
    "</li>\n",
    "<li>\n",
    "Training on the entire dataset, but this time coupled with a weighted loss function \n",
    "</li>\n",
    "</ol>\n",
    "</li>\n",
    "<li style=\"margin-bottom: 2%;\">\n",
    " After comparing models based on the recall and the precision (accuracy is not a good metric for such an imbalanced dataset), the XGBoost model trained in the second scenario provides the best results with a precision of 91%  and a recall of 92%.\n",
    "</li>\n",
    "<li >\n",
    "GitHub repository: <a href=\"https://github.com/Segnaly-2021/Fraud_detection\" target=\"_blank\">click here</a> \n",
    "</li>\n",
    "</ul>        \n",
    "</div>\n",
    "\n",
    "<div style=\"margin-left: 10%;padding: 15px; background-color: white; border-radius:20px; border: 1px solid #f6f7fb;\">\n",
    "<h2 style=\"color:rgba(81, 52, 201, 1); \">Developed a Computer Vision Model:</h2>\n",
    "<ul style=\"font-size: 16px; width: 600px;\">\n",
    "<li style=\"margin-bottom: 5%\">\n",
    "In this project, I built a slightly modified version of the ResNet architecture with less residual blocks using Python and TensorFlow. \n",
    "</li>\n",
    "<li style=\"margin-bottom: 5%\">\n",
    "I trained it on the MNIST dataset and achieved around 96% accuracy.\n",
    "</li>\n",
    "<li style=\"margin-bottom: 5%\">\n",
    "I then built the API using FastAPI and containerized it with Docker so that it works on any system, making it easy to deploy.\n",
    "</li>\n",
    "<li style=\"margin-bottom: 5%\">\n",
    "Want to try it out? Visit the project repository on GitHub, where I wrote a detailed ReadMe file explaining step by step how to run the model on your local machine. \n",
    "</li>\n",
    "<li >\n",
    "GitHub repository: <a href=\"https://github.com/Segnaly-2021/CV_Image-Classification\" target=\"_blank\">click here</a> \n",
    "</li>\n",
    "</ul>\n",
    "</div>\n",
    "<div style=\"padding: 15px; margin-left: 10%; background-color: white; border-radius:20px; border: 1px solid #f6f7fb;\">\n",
    "<h2 style=\"color:rgba(81, 52, 201, 1); \">Developed a Portfolio Website with React:</h2> \n",
    "<ul style=\"font-size: 16px; width: 600px;\">\n",
    "<li style=\"margin-bottom: 5%\">\n",
    "I built my portfolio app - a responsive website accessible on both mobile and desktop - using React.js and vanilla CSS.\n",
    "</li>\n",
    "<li style=\"margin-bottom: 5%\">\n",
    "It's a clean, well-designed web app where you can find more about me, my skills, other projects I worked on, and a contact form to make it easy for my future collaborators to reach out. \n",
    "</li>\n",
    "<li style=\"margin-bottom: 5%\">\n",
    "I bought a domain name with Hostinger and then deployed the app on Netlify. It's now online!\n",
    "</li>\n",
    "<li style=\"margin-bottom: 5%\">\n",
    "It was one of those projects that required me to learn how the web works, which I tried to do by writing multiple technical articles that are available <a href=\"https://github.com/Segnaly-2021/Understanding_The_Web\" target=\"_blank\">here</a>.\n",
    "</li>\n",
    "<li>\n",
    "Want to visit my website? <a href=\"https://www.alysegnane-portfolio.com\" target=\"_blank\">Click here</a>. \n",
    "</li>\n",
    "</ul>\n",
    "\n",
    "</div>\n",
    "</div>"
   ]
  },
  {
   "cell_type": "markdown",
   "id": "9eb1f0cd-e861-4c43-8f7a-daf551231992",
   "metadata": {
    "jp-MarkdownHeadingCollapsed": true
   },
   "source": [
    "###### <h1 style=\"color:rgba(81, 52, 201, 1)\">Let's Talk!</h1>"
   ]
  },
  {
   "cell_type": "markdown",
   "id": "a3d2e4ee-eb8b-4934-ac26-1315dedab973",
   "metadata": {},
   "source": [
    "<p style=\"font-size:16px;\">\n",
    "We're at the end of the story - thank you so much for sticking with me. It was quite a long journey even though I tried to keep it as short as possible.\n",
    "Hopefully it has let my passion for ML and AI, and my ambition of joining Shift Technology shine through. </p>\n",
    "<p style=\"font-size:16px;\">\n",
    "I'm currently at a stage where I need to apply what I've learned throughout this journey, and Shift Technology is exactly the right place for me.\n",
    "</p>\n",
    "\n",
    "### Now is the time for me to ask for a favor, just one: an interview!\n",
    "<p style=\"font-size:16px;\">\n",
    "Hopefully, this doesn't give the impression that I know everything. I don't. It was just me being really honest with the things that I've done to get to this point.\n",
    "</p>\n",
    "<p style=\"font-size:16px;\">\n",
    "All I can hope for now is a chance to talk, to see if I'm a good fit for the company: \n",
    "</p>\n",
    "\n",
    "- <p style=\"font-size:16px;\">Let's talk about data science and ML algorithms.</p>\n",
    "- <p style=\"font-size:16px;\">Let's talk about SQL, data and entity resolution.</p>\n",
    "- <p style=\"font-size:16px;\">Let's talk about how <strong>\"together\"</strong> We Can <strong>\"focus on what matters\"</strong> to  <strong>\"make it happen\"!</strong></p>\n",
    "\n",
    "<p style=\"font-size:16px;\">I'd be more than happy to do that!</p>\n"
   ]
  }
 ],
 "metadata": {
  "kernelspec": {
   "display_name": "Python 3 (ipykernel)",
   "language": "python",
   "name": "python3"
  },
  "language_info": {
   "codemirror_mode": {
    "name": "ipython",
    "version": 3
   },
   "file_extension": ".py",
   "mimetype": "text/x-python",
   "name": "python",
   "nbconvert_exporter": "python",
   "pygments_lexer": "ipython3",
   "version": "3.12.2"
  }
 },
 "nbformat": 4,
 "nbformat_minor": 5
}
